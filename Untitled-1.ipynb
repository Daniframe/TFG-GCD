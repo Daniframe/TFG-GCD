{
 "cells": [
  {
   "cell_type": "code",
   "execution_count": 44,
   "metadata": {},
   "outputs": [],
   "source": [
    "import pandas as pd\n",
    "import numpy as np\n",
    "\n",
    "a = pd.read_csv(\"cola_perturbed.csv\", sep = \";\")\n",
    "b = pd.read_csv(\"d:\\Otros\\DistilBERT-GC_character_level_evaluation.csv\", sep =\";\")\n",
    "b.kappa = b.percentage_altered\n",
    "b = b.drop(columns = [\"percentage_altered\"])\n",
    "\n",
    "def tipo(cad):\n",
    "    tokens = cad.split(\"_\")\n",
    "    if len(tokens) == 3:\n",
    "        return tokens[-2]\n",
    "    else:\n",
    "        return tokens[-1]\n",
    "\n",
    "def tipo2(cad):\n",
    "    tokens = cad.split(\"_\")\n",
    "    if len(tokens) == 3:\n",
    "        return tokens[-1]\n",
    "    else:\n",
    "        return np.nan"
   ]
  },
  {
   "cell_type": "code",
   "execution_count": 45,
   "metadata": {},
   "outputs": [
    {
     "data": {
      "text/html": [
       "<div>\n",
       "<style scoped>\n",
       "    .dataframe tbody tr th:only-of-type {\n",
       "        vertical-align: middle;\n",
       "    }\n",
       "\n",
       "    .dataframe tbody tr th {\n",
       "        vertical-align: top;\n",
       "    }\n",
       "\n",
       "    .dataframe thead th {\n",
       "        text-align: right;\n",
       "    }\n",
       "</style>\n",
       "<table border=\"1\" class=\"dataframe\">\n",
       "  <thead>\n",
       "    <tr style=\"text-align: right;\">\n",
       "      <th></th>\n",
       "      <th>type</th>\n",
       "      <th>percentage_perturbation</th>\n",
       "      <th>kappa</th>\n",
       "      <th>type_lower</th>\n",
       "    </tr>\n",
       "  </thead>\n",
       "  <tbody>\n",
       "    <tr>\n",
       "      <th>0</th>\n",
       "      <td>Keyboard</td>\n",
       "      <td>0.01</td>\n",
       "      <td>0.414645</td>\n",
       "      <td>keyboard</td>\n",
       "    </tr>\n",
       "    <tr>\n",
       "      <th>1</th>\n",
       "      <td>Keyboard</td>\n",
       "      <td>0.05</td>\n",
       "      <td>0.276761</td>\n",
       "      <td>keyboard</td>\n",
       "    </tr>\n",
       "    <tr>\n",
       "      <th>2</th>\n",
       "      <td>Keyboard</td>\n",
       "      <td>0.10</td>\n",
       "      <td>0.080928</td>\n",
       "      <td>keyboard</td>\n",
       "    </tr>\n",
       "    <tr>\n",
       "      <th>3</th>\n",
       "      <td>Ocr</td>\n",
       "      <td>0.01</td>\n",
       "      <td>0.385667</td>\n",
       "      <td>ocr</td>\n",
       "    </tr>\n",
       "    <tr>\n",
       "      <th>4</th>\n",
       "      <td>Ocr</td>\n",
       "      <td>0.05</td>\n",
       "      <td>0.206305</td>\n",
       "      <td>ocr</td>\n",
       "    </tr>\n",
       "    <tr>\n",
       "      <th>5</th>\n",
       "      <td>Ocr</td>\n",
       "      <td>0.10</td>\n",
       "      <td>0.130448</td>\n",
       "      <td>ocr</td>\n",
       "    </tr>\n",
       "    <tr>\n",
       "      <th>6</th>\n",
       "      <td>SpellingError</td>\n",
       "      <td>0.01</td>\n",
       "      <td>0.376344</td>\n",
       "      <td>spellingerror</td>\n",
       "    </tr>\n",
       "    <tr>\n",
       "      <th>7</th>\n",
       "      <td>SpellingError</td>\n",
       "      <td>0.05</td>\n",
       "      <td>0.283459</td>\n",
       "      <td>spellingerror</td>\n",
       "    </tr>\n",
       "    <tr>\n",
       "      <th>8</th>\n",
       "      <td>SpellingError</td>\n",
       "      <td>0.10</td>\n",
       "      <td>0.100214</td>\n",
       "      <td>spellingerror</td>\n",
       "    </tr>\n",
       "    <tr>\n",
       "      <th>9</th>\n",
       "      <td>Typos</td>\n",
       "      <td>0.01</td>\n",
       "      <td>0.441819</td>\n",
       "      <td>typos</td>\n",
       "    </tr>\n",
       "    <tr>\n",
       "      <th>10</th>\n",
       "      <td>Typos</td>\n",
       "      <td>0.05</td>\n",
       "      <td>0.315992</td>\n",
       "      <td>typos</td>\n",
       "    </tr>\n",
       "    <tr>\n",
       "      <th>11</th>\n",
       "      <td>Typos</td>\n",
       "      <td>0.10</td>\n",
       "      <td>0.103027</td>\n",
       "      <td>typos</td>\n",
       "    </tr>\n",
       "  </tbody>\n",
       "</table>\n",
       "</div>"
      ],
      "text/plain": [
       "             type  percentage_perturbation     kappa     type_lower\n",
       "0        Keyboard                     0.01  0.414645       keyboard\n",
       "1        Keyboard                     0.05  0.276761       keyboard\n",
       "2        Keyboard                     0.10  0.080928       keyboard\n",
       "3             Ocr                     0.01  0.385667            ocr\n",
       "4             Ocr                     0.05  0.206305            ocr\n",
       "5             Ocr                     0.10  0.130448            ocr\n",
       "6   SpellingError                     0.01  0.376344  spellingerror\n",
       "7   SpellingError                     0.05  0.283459  spellingerror\n",
       "8   SpellingError                     0.10  0.100214  spellingerror\n",
       "9           Typos                     0.01  0.441819          typos\n",
       "10          Typos                     0.05  0.315992          typos\n",
       "11          Typos                     0.10  0.103027          typos"
      ]
     },
     "execution_count": 45,
     "metadata": {},
     "output_type": "execute_result"
    }
   ],
   "source": [
    "b[\"type_lower\"] = b[\"type\"].str.lower()\n",
    "b"
   ]
  },
  {
   "cell_type": "code",
   "execution_count": 65,
   "metadata": {},
   "outputs": [],
   "source": [
    "a[\"type_lower\"] = a[\"dataset_name\"].apply(tipo)\n",
    "a[\"percentage_perturbation\"] = a[\"dataset_name\"].apply(tipo2)\n",
    "\n",
    "a.percentage_perturbation = a.percentage_perturbation.astype(float)\n",
    "b.percentage_perturbation = b.percentage_perturbation.astype(float)\n",
    "a = a.drop(columns = [\"dataset_name\"])"
   ]
  },
  {
   "cell_type": "code",
   "execution_count": 68,
   "metadata": {},
   "outputs": [],
   "source": [
    "c = pd.merge(a, b, on = [\"type_lower\", \"percentage_perturbation\"], how = \"inner\")"
   ]
  },
  {
   "cell_type": "code",
   "execution_count": 78,
   "metadata": {},
   "outputs": [
    {
     "name": "stderr",
     "output_type": "stream",
     "text": [
      "C:\\Users\\DROMALV\\AppData\\Local\\Temp\\ipykernel_15500\\3140221668.py:5: UserWarning: FixedFormatter should only be used together with FixedLocator\n",
      "  ax.set_xticklabels(c.loc[c.percentage_perturbation == 0.05, \"type\"].values)\n"
     ]
    },
    {
     "data": {
      "text/plain": [
       "[Text(-1.0, 0, 'Keyboard'),\n",
       " Text(-0.5, 0, 'Ocr'),\n",
       " Text(0.0, 0, 'SpellingError'),\n",
       " Text(0.5, 0, 'Typos'),\n",
       " Text(1.0, 0, ''),\n",
       " Text(1.5, 0, ''),\n",
       " Text(2.0, 0, ''),\n",
       " Text(2.5, 0, ''),\n",
       " Text(3.0, 0, ''),\n",
       " Text(3.5, 0, ''),\n",
       " Text(4.0, 0, '')]"
      ]
     },
     "execution_count": 78,
     "metadata": {},
     "output_type": "execute_result"
    },
    {
     "data": {
      "image/png": "[encoded data removed]",
      "text/plain": [
       "<Figure size 1000x1000 with 1 Axes>"
      ]
     },
     "metadata": {},
     "output_type": "display_data"
    }
   ],
   "source": [
    "import matplotlib.pyplot as plt\n",
    "\n",
    "fig, ax = plt.subplots(1, 1, figsize = (10, 10))\n",
    "ax.bar(x = np.arange(4), height = c.loc[c.percentage_perturbation == 0.05, \"kappa\"])\n",
    "ax.set_xticklabels(c.loc[c.percentage_perturbation == 0.05, \"type\"].values)"
   ]
  },
  {
   "cell_type": "code",
   "execution_count": null,
   "metadata": {},
   "outputs": [],
   "source": []
  }
 ],
 "metadata": {
  "kernelspec": {
   "display_name": "Python 3",
   "language": "python",
   "name": "python3"
  },
  "language_info": {
   "codemirror_mode": {
    "name": "ipython",
    "version": 3
   },
   "file_extension": ".py",
   "mimetype": "text/x-python",
   "name": "python",
   "nbconvert_exporter": "python",
   "pygments_lexer": "ipython3",
   "version": "3.9.10"
  },
  "orig_nbformat": 4
 },
 "nbformat": 4,
 "nbformat_minor": 2
}
